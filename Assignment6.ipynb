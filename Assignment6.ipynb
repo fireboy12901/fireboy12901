{
  "nbformat": 4,
  "nbformat_minor": 0,
  "metadata": {
    "colab": {
      "provenance": [],
      "authorship_tag": "ABX9TyOrv/PT+15W3nvvCfBlYbI3",
      "include_colab_link": true
    },
    "kernelspec": {
      "name": "python3",
      "display_name": "Python 3"
    },
    "language_info": {
      "name": "python"
    }
  },
  "cells": [
    {
      "cell_type": "markdown",
      "metadata": {
        "id": "view-in-github",
        "colab_type": "text"
      },
      "source": [
        "<a href=\"https://colab.research.google.com/github/fireboy12901/fireboy12901/blob/main/Assignment6.ipynb\" target=\"_parent\"><img src=\"https://colab.research.google.com/assets/colab-badge.svg\" alt=\"Open In Colab\"/></a>"
      ]
    },
    {
      "cell_type": "code",
      "execution_count": 12,
      "metadata": {
        "colab": {
          "base_uri": "https://localhost:8080/"
        },
        "id": "1FnrZUjyScvP",
        "outputId": "fb96a897-8458-41da-8b9b-a03543ff2593"
      },
      "outputs": [
        {
          "output_type": "stream",
          "name": "stdout",
          "text": [
            "is car == 'Toyota'? I predict True\n",
            "True\n",
            "is car == 'Subaru'? I predict False\n",
            "False\n",
            "Is number == '9'? I predict True\n",
            "True\n",
            "is number == '7'? I predict False\n",
            "False\n",
            "is car == 'Title 8'? I predict True\n",
            "False\n",
            "is car == 'Title 9'? I predict False\n",
            "False\n",
            "Is run == '5k'? I predict True\n",
            "True\n",
            "is run == '8k'? I predict False\n",
            "False\n",
            "is candy == 'M&Ms'? I predict True\n",
            "True\n",
            "is candy == 'Snickers'? I predict False\n",
            "False\n",
            "True\n",
            "False\n",
            "True\n",
            "False\n",
            "True\n",
            "False\n",
            "True\n",
            "False\n",
            "True\n",
            "False\n"
          ]
        }
      ],
      "source": [
        "car = \"Toyota\" #Try it yourself 5.1 and 5.2\n",
        "print(\"is car == 'Toyota'? I predict True\")\n",
        "print(car == \"Toyota\")\n",
        "print(\"is car == 'Subaru'? I predict False\")\n",
        "print(car == \"Subaru\")\n",
        "number = 9\n",
        "print(\"Is number == '9'? I predict True\")\n",
        "print(number == 9)\n",
        "print(\"is number == '7'? I predict False\")\n",
        "print(number == 7)\n",
        "law = \"Title 8\"\n",
        "print(\"is car == 'Title 8'? I predict True\")\n",
        "print(car == \"Title 8\")\n",
        "print(\"is car == 'Title 9'? I predict False\")\n",
        "print(car == \"Title 9\")\n",
        "run = \"5k\"\n",
        "print(\"Is run == '5k'? I predict True\")\n",
        "print(run == \"5k\")\n",
        "print(\"is run == '8k'? I predict False\")\n",
        "print(number == \"8k\")\n",
        "candy = \"M&Ms\"\n",
        "print(\"is candy == 'M&Ms'? I predict True\")\n",
        "print(candy == \"M&Ms\")\n",
        "print(\"is candy == 'Snickers'? I predict False\")\n",
        "print(candy == \"Snickers\")\n",
        "print(\"law\" == \"law\")\n",
        "print(\"law\" == \"caw\")\n",
        "car = \"Toyota\"\n",
        "print(car.lower() == \"toyota\")\n",
        "print(car.lower() == \"Toyota\")\n",
        "x = 15\n",
        "y = 9\n",
        "print(x == 15 or y == 15)\n",
        "print(x and y == 15)\n",
        "print(9+5 !=13)\n",
        "print(9*5 == 14)\n",
        "letters =[\"x\", \"y\", \"z\"]\n",
        "print(\"x\" in letters)\n",
        "print(\"a\" in letters)"
      ]
    },
    {
      "cell_type": "code",
      "source": [
        "#Try it yourself 5.3\n",
        "alien_color = \"red\"\n",
        "if alien_color == \"green\":\n",
        "  print(\"you just earned 5 points\")\n",
        "alien_color = \"green\"\n",
        "if alien_color == \"green\":\n",
        "  print(\"you just earned 5 points\")"
      ],
      "metadata": {
        "colab": {
          "base_uri": "https://localhost:8080/"
        },
        "id": "692-HQ6BZt__",
        "outputId": "c2b7fd18-1180-485e-ad40-4d4bb668ea5a"
      },
      "execution_count": 16,
      "outputs": [
        {
          "output_type": "stream",
          "name": "stdout",
          "text": [
            "you just earned 5 points\n"
          ]
        }
      ]
    },
    {
      "cell_type": "code",
      "source": [
        "#Try it yourself 5.6\n",
        "age = int(input(\"What is your age\"))\n",
        "if age < 2:\n",
        "  print(\"You are a baby\")\n",
        "elif age > 2 and age < 4:\n",
        "  print(\"You are a toddler\")\n",
        "elif age > 4 and age < 13:\n",
        "  print(\"You are a kid\")\n",
        "elif age > 13 and age < 18:\n",
        "  print(\"You are a teenager\")\n",
        "elif age > 18 and age < 65:\n",
        "  print(\"You are an adult\")\n",
        "else:\n",
        "  print(\"You are an elder\")\n",
        "#For 5.12 Added spaces to 5.6"
      ],
      "metadata": {
        "colab": {
          "base_uri": "https://localhost:8080/"
        },
        "id": "kGZwqMjlcxvs",
        "outputId": "113c9ce9-e715-4684-c00a-179c26bc3239"
      },
      "execution_count": 24,
      "outputs": [
        {
          "output_type": "stream",
          "name": "stdout",
          "text": [
            "What is your age99\n",
            "You are an elder\n"
          ]
        }
      ]
    },
    {
      "cell_type": "code",
      "source": [
        "#Try it yourself 5.13 writing a program to give the user the first x numbers of the Fibonacci Series\n",
        "def Fibonacci(n):\n",
        "  Fibonacci_series = []\n",
        "  for i in range(n):\n",
        "    if i == 1 or i == 0:\n",
        "      Fibonacci_series.append(i)\n",
        "    else:\n",
        "      Fibonacci_series.append(Fibonacci_series[i-2] + Fibonacci_series[i-1])\n",
        "  return(\"The first \" + str(n) + \" numbers of the fibonacci series are \" + str(Fibonacci_series))\n",
        "amount = int(input(\"How many numbers of the Fibonnaci Series would you like to know? \"))\n",
        "Fibonacci(amount)"
      ],
      "metadata": {
        "colab": {
          "base_uri": "https://localhost:8080/",
          "height": 53
        },
        "id": "4jLie3mkdhjD",
        "outputId": "0dba0d5f-2221-4758-9f28-42bf1faa6d17"
      },
      "execution_count": 35,
      "outputs": [
        {
          "name": "stdout",
          "output_type": "stream",
          "text": [
            "How many numbers of the Fibonnaci Series would you like to know?15\n"
          ]
        },
        {
          "output_type": "execute_result",
          "data": {
            "text/plain": [
              "'The first 15 numbers of the fibonacci series are [0, 1, 1, 2, 3, 5, 8, 13, 21, 34, 55, 89, 144, 233, 377]'"
            ],
            "application/vnd.google.colaboratory.intrinsic+json": {
              "type": "string"
            }
          },
          "metadata": {},
          "execution_count": 35
        }
      ]
    }
  ]
}