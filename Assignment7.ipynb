{
  "nbformat": 4,
  "nbformat_minor": 0,
  "metadata": {
    "colab": {
      "provenance": [],
      "authorship_tag": "ABX9TyP/moRCv5nV9RfZ5UUzKM1z",
      "include_colab_link": true
    },
    "kernelspec": {
      "name": "python3",
      "display_name": "Python 3"
    },
    "language_info": {
      "name": "python"
    }
  },
  "cells": [
    {
      "cell_type": "markdown",
      "metadata": {
        "id": "view-in-github",
        "colab_type": "text"
      },
      "source": [
        "<a href=\"https://colab.research.google.com/github/fireboy12901/fireboy12901/blob/main/Assignment7.ipynb\" target=\"_parent\"><img src=\"https://colab.research.google.com/assets/colab-badge.svg\" alt=\"Open In Colab\"/></a>"
      ]
    },
    {
      "cell_type": "code",
      "execution_count": null,
      "metadata": {
        "colab": {
          "base_uri": "https://localhost:8080/"
        },
        "id": "2jNwUM5NrrU6",
        "outputId": "4e67ab39-147d-43ce-b021-d5c50937ae2b"
      },
      "outputs": [
        {
          "output_type": "stream",
          "name": "stdout",
          "text": [
            "First name: Joshua\n",
            "Last name: Sharp\n",
            "Age: 18\n",
            "Location: Plattsburgh\n"
          ]
        }
      ],
      "source": [
        "#Try it yourself 6.1\n",
        "Person = {\"First Name\": \"Joshua\", \"Last Name\": \"Sharp\", \"Age\": 18, \"Location\": \"Plattsburgh\"}\n",
        "print(\"First name: \" + Person['First Name'])\n",
        "print(\"Last name: \" + Person[\"Last Name\"])\n",
        "print(\"Age: \" + str(Person[\"Age\"]))\n",
        "print(\"Location: \" + Person[\"Location\"])"
      ]
    },
    {
      "cell_type": "code",
      "source": [
        "#Try it yourself 6.2\n",
        "Favorite_Numbers = {\n",
        "    \"Joshua\": 18,\n",
        "    \"Johnathan\": 29,\n",
        "    \"Bella\": 56,\n",
        "    \"Jillian\": 129,\n",
        "    \"Xander\": 456,\n",
        "}\n",
        "print(\"Joshua's favorite number is \" + str(Favorite_Numbers[\"Joshua\"]))\n",
        "print(\"Johnathan's favorite number is \" + str(Favorite_Numbers[\"Johnathan\"]))\n",
        "print(\"Bella's favorite number is \" + str(Favorite_Numbers[\"Bella\"]))\n",
        "print(\"Jillian's favorite number is \" + str(Favorite_Numbers[\"Jillian\"]))\n",
        "print(\"Xander's favorite number is \" + str(Favorite_Numbers[\"Xander\"]))"
      ],
      "metadata": {
        "colab": {
          "base_uri": "https://localhost:8080/"
        },
        "id": "wptcCqNduhiM",
        "outputId": "d4dd39e0-461d-49b0-f871-b9b16cfa2ea4"
      },
      "execution_count": null,
      "outputs": [
        {
          "output_type": "stream",
          "name": "stdout",
          "text": [
            "Joshua's favorite number is 18\n",
            "Johnathan's favorite number is 29\n",
            "Bella's favorite number is 56\n",
            "Jillian's favorite number is 129\n",
            "Xander's favorite number is 456\n"
          ]
        }
      ]
    },
    {
      "cell_type": "code",
      "source": [
        "#Try it yourself 6.3\n",
        "Glossary = {\"int\": \"Also known as an integer, an int is a data type in Python that represents a whole number with no decimal places, examples being 1, -5, 0, etc.\",\n",
        "    \"for loops\": \"A way of repeating a set of instructions multiple times in a row.\" +\n",
        "    \" If you want it to repeat a number a certain amount of times, set the range as that number plus 1.\",\n",
        "    \"if, elif, else\": \"A way to ask if something is true or not, and if it is not asking the computer to do something else.\" +\n",
        "    \" Add additional elif statements if you want to ask if multiple things are true or not, with else being a 'If all else fails'\",\n",
        "    \"float\": \"Another version of an int. However, it can also have decimal places in the number, examples being 1.5, -4.5, etc.\",\n",
        "    \"variable\": \"A way to call an object without needing to type it. An example is if you have a variable called x and it has a string on it\" +\n",
        "    \" it will make it where you can call x instead of having to type that long text again.\"}\n",
        "print(\"int: \" + \"\\n\" + Glossary[\"int\"])\n",
        "print(\"for loops: \" + \"\\n\" + Glossary[\"for loops\"])\n",
        "print(\"if, elif, else statements: \" + \"\\n\" + Glossary[\"if, elif, else\"])\n",
        "print(\"float: \" + \"\\n\" + Glossary[\"float\"])\n",
        "print(\"variable: \" + \"\\n\" + Glossary[\"variable\"])"
      ],
      "metadata": {
        "id": "gD1okUHf1W96",
        "colab": {
          "base_uri": "https://localhost:8080/"
        },
        "outputId": "c6a54fad-c15c-4f60-ee64-8e3759313ea4"
      },
      "execution_count": null,
      "outputs": [
        {
          "output_type": "stream",
          "name": "stdout",
          "text": [
            "int: \n",
            "Also known as an integer, an int is a data type in Python that represents a whole number with no decimal places, examples being 1, -5, 0, etc.\n",
            "for loops: \n",
            "A way of repeating a set of instructions multiple times in a row. If you want it to repeat a number a certain amount of times, set the range as that number plus 1.\n",
            "if, elif, else statements: \n",
            "A way to ask if something is true or not, and if it is not asking the computer to do something else. Add additional elif statements if you want to ask if multiple things are true or not, with else being a 'If all else fails'\n",
            "float: \n",
            "Another version of an int. However, it can also have decimal places in the number, examples being 1.5, -4.5, etc.\n",
            "variable: \n",
            "A way to call an object without needing to type it. An example is if you have a variable called x and it has a string on it it will make it where you can call x instead of having to type that long text again.\n"
          ]
        }
      ]
    },
    {
      "cell_type": "code",
      "source": [
        "#Try it yourself 6.4\n",
        "Glossary = {\"int\": \"Also known as an integer, an int is a data type in Python that represents a whole number with no decimal places, examples being 1, -5, 0, etc.\",\n",
        "    \"for loops\": \"A way of repeating a set of instructions multiple times in a row.\" +\n",
        "    \" If you want it to repeat a number a certain amount of times, set the range as that number plus 1.\",\n",
        "    \"if, elif, else\": \"A way to ask if something is true or not, and if it is not asking the computer to do something else.\" +\n",
        "    \" Add additional elif statements if you want to ask if multiple things are true or not, with else being a 'If all else fails'\",\n",
        "    \"float\": \"Another version of an int. However, it can also have decimal places in the number, examples being 1.5, -4.5, etc.\",\n",
        "    \"variable\": \"A way to call an object without needing to type it. An example is if you have a variable called x and it has a string on it\" +\n",
        "    \" it will make it where you can call x instead of having to type that long text again.\"}\n",
        "\n",
        "for word in Glossary:\n",
        "  print(word + \"\\n\" + Glossary[word])"
      ],
      "metadata": {
        "id": "0EveXyHEI2hL",
        "colab": {
          "base_uri": "https://localhost:8080/"
        },
        "outputId": "e5aebd59-10c3-415e-9de4-b809ed3b66a1"
      },
      "execution_count": 8,
      "outputs": [
        {
          "output_type": "stream",
          "name": "stdout",
          "text": [
            "int\n",
            "Also known as an integer, an int is a data type in Python that represents a whole number with no decimal places, examples being 1, -5, 0, etc.\n",
            "for loops\n",
            "A way of repeating a set of instructions multiple times in a row. If you want it to repeat a number a certain amount of times, set the range as that number plus 1.\n",
            "if, elif, else\n",
            "A way to ask if something is true or not, and if it is not asking the computer to do something else. Add additional elif statements if you want to ask if multiple things are true or not, with else being a 'If all else fails'\n",
            "float\n",
            "Another version of an int. However, it can also have decimal places in the number, examples being 1.5, -4.5, etc.\n",
            "variable\n",
            "A way to call an object without needing to type it. An example is if you have a variable called x and it has a string on it it will make it where you can call x instead of having to type that long text again.\n"
          ]
        }
      ]
    },
    {
      "cell_type": "code",
      "source": [
        "#Try it yourself 6.11 and 6.12\n",
        "Cities = {\n",
        "    \"Los Angeles\": {\n",
        "        \"Country\": \"USA\",\n",
        "        \"Approx Pop\": \"3.9 million\",\n",
        "        \"Interesting Fact\": \"It is where the Golden Gate Bridge is\",\n",
        "    },\n",
        "    \"Dubai\": {\n",
        "        \"Country\": \"United Arab Emirates\",\n",
        "        \"Approx Pop\": \"3.01 Million\",\n",
        "        \"Interesting Fact\": \"It has a 0% crime rate\",\n",
        "    },\n",
        "    \"London\": {\n",
        "        \"Country\": \"England\",\n",
        "        \"Approx Pop\": \"9.65 Million\",\n",
        "        \"Interesting Fact\": \"It is where the Harry Potter Films are located\",\n",
        "    },\n",
        "    \"Shanghai\": {\n",
        "        \"Country\": \"China\",\n",
        "        \"Approx Pop\": \"29.21 million\",\n",
        "        \"Iteresting Fact\": \"The name “Shanghai” literally means “above the sea” in Mandarin Chinese, reflecting its location on the coast of the East China Sea.\"\n",
        "    },\n",
        "}\n",
        "for city in Cities:\n",
        "  print(f\"\\nCities: {city}\")\n",
        "  print(Cities[city])"
      ],
      "metadata": {
        "colab": {
          "base_uri": "https://localhost:8080/"
        },
        "id": "1eFCjvIHddLq",
        "outputId": "93a324d0-f632-48f7-c9bf-618f0f0abd85"
      },
      "execution_count": 37,
      "outputs": [
        {
          "output_type": "stream",
          "name": "stdout",
          "text": [
            "\n",
            "Cities: Los Angeles\n",
            "{'Country': 'USA', 'Approx Pop': '3.9 million', 'Interesting Fact': 'It is where the Golden Gate Bridge is'}\n",
            "\n",
            "Cities: Dubai\n",
            "{'Country': 'United Arab Emirates', 'Approx Pop': '3.01 Million', 'Interesting Fact': 'It has a 0% crime rate'}\n",
            "\n",
            "Cities: London\n",
            "{'Country': 'England', 'Approx Pop': '9.65 Million', 'Interesting Fact': 'It is where the Harry Potter Films are located'}\n",
            "\n",
            "Cities: Shanghai\n",
            "{'Country': 'China', 'Approx Pop': '29.21 million', 'Iteresting Fact': 'The name “Shanghai” literally means “above the sea” in Mandarin Chinese, reflecting its location on the coast of the East China Sea.'}\n"
          ]
        }
      ]
    }
  ]
}