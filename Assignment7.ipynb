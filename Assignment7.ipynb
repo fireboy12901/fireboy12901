{
  "nbformat": 4,
  "nbformat_minor": 0,
  "metadata": {
    "colab": {
      "provenance": [],
      "authorship_tag": "ABX9TyM6xHM2E6LiY7zhPpchtgQT",
      "include_colab_link": true
    },
    "kernelspec": {
      "name": "python3",
      "display_name": "Python 3"
    },
    "language_info": {
      "name": "python"
    }
  },
  "cells": [
    {
      "cell_type": "markdown",
      "metadata": {
        "id": "view-in-github",
        "colab_type": "text"
      },
      "source": [
        "<a href=\"https://colab.research.google.com/github/fireboy12901/fireboy12901/blob/main/Assignment7.ipynb\" target=\"_parent\"><img src=\"https://colab.research.google.com/assets/colab-badge.svg\" alt=\"Open In Colab\"/></a>"
      ]
    },
    {
      "cell_type": "code",
      "execution_count": 2,
      "metadata": {
        "colab": {
          "base_uri": "https://localhost:8080/"
        },
        "id": "olLkuiSWbgzs",
        "outputId": "77c2ef4d-b630-4cef-b960-bac8fefc325a"
      },
      "outputs": [
        {
          "output_type": "stream",
          "name": "stdout",
          "text": [
            "What type of car would you like to see if we have in stock?Toyota\n",
            "Let me see if we have any Toyotas.\n"
          ]
        }
      ],
      "source": [
        "#Try it yourself 7.1\n",
        "car = input(\"What type of car would you like to see if we have in stock? \")\n",
        "print(\"Let me see if we have any \" + car + \"s.\")"
      ]
    },
    {
      "cell_type": "code",
      "source": [
        "#Try it yourself 7.3\n",
        "number = int(input(\"Give me a random number: \"))\n",
        "remainder = number%10\n",
        "if remainder == 0:\n",
        "  print(\"You have given me a multiple of 10\")\n",
        "else:\n",
        "  print(\"You have given me a number that is not a mulitple of 10\")"
      ],
      "metadata": {
        "colab": {
          "base_uri": "https://localhost:8080/"
        },
        "id": "Qv6hjfXvcHCQ",
        "outputId": "fa024365-e052-443f-ea66-98bfe9dace36"
      },
      "execution_count": 8,
      "outputs": [
        {
          "output_type": "stream",
          "name": "stdout",
          "text": [
            "Give me a random number: 20\n",
            "You have given me a multiple of 10\n"
          ]
        }
      ]
    },
    {
      "cell_type": "code",
      "source": [
        "#Try it yourself 7.5 and 7.6\n",
        "price = 0\n",
        "while True:\n",
        "    age = int(input(\"Give me the age of one of the people going(less than zero to stop): \"))\n",
        "    if age < 0:\n",
        "      print(\"You have given me an ilegal age\")\n",
        "      break\n",
        "    elif age < 3:\n",
        "      price = price + 0\n",
        "    elif age >=3 and age <=12:\n",
        "      price = price + 10\n",
        "    elif age >12:\n",
        "      price = price + 15\n",
        "print(\"The total price for your family to see this movie is \" + str(price))"
      ],
      "metadata": {
        "colab": {
          "base_uri": "https://localhost:8080/"
        },
        "id": "VIx5A_FjdGRu",
        "outputId": "9ae516a8-ae73-4f2f-8c8b-84962dee4229"
      },
      "execution_count": 13,
      "outputs": [
        {
          "output_type": "stream",
          "name": "stdout",
          "text": [
            "Give me the age of one of the people going(less than zero to stop): 2\n",
            "Give me the age of one of the people going(less than zero to stop): 4\n",
            "Give me the age of one of the people going(less than zero to stop): 13\n",
            "Give me the age of one of the people going(less than zero to stop): -1\n",
            "You have given me an ilegal age\n",
            "The total price for your famil to see this movie is 25\n"
          ]
        }
      ]
    },
    {
      "cell_type": "code",
      "source": [
        "#Try it yourself 7.8\n",
        "sandwich_orders = [\"ham\", \"tuna\", \"bolagna\", \"turkey\", \"egg\", \"chicken\"]\n",
        "finished_sandwiches = []\n",
        "while True:\n",
        "  if len(sandwich_orders) == 0:\n",
        "    break\n",
        "  else:\n",
        "    finished_sandwiches.append(sandwich_orders[0])\n",
        "    print(\"The \" + sandwich_orders[0] + \" sandwich is finished\")\n",
        "    sandwich_orders.remove(sandwich_orders[0])\n",
        "print(str(finished_sandwiches) + \" are all the sandwiches made today.\")"
      ],
      "metadata": {
        "colab": {
          "base_uri": "https://localhost:8080/"
        },
        "id": "3McXyhaKg6rL",
        "outputId": "e85ed66b-a845-4db8-98d6-83cc6968e3f4"
      },
      "execution_count": 18,
      "outputs": [
        {
          "output_type": "stream",
          "name": "stdout",
          "text": [
            "The ham sandwich is finished\n",
            "The tuna sandwich is finished\n",
            "The bolagna sandwich is finished\n",
            "The turkey sandwich is finished\n",
            "The egg sandwich is finished\n",
            "The chicken sandwich is finished\n",
            "['ham', 'tuna', 'bolagna', 'turkey', 'egg', 'chicken'] are all the sandwiches made today.\n"
          ]
        }
      ]
    },
    {
      "cell_type": "code",
      "source": [
        "#Calculator problem\n",
        "solution = 0\n",
        "while True:\n",
        "  number1 = int(input(\"Give me a number\"))\n",
        "  number2 = int(input(\"give me another number\"))\n",
        "  operation = input(\"What would you like me to do to these numbers? \")\n",
        "  if number1 == 0 or number2 == 0:\n",
        "    break\n",
        "  if operation == \"+\":\n",
        "    solution = number1 + number2\n",
        "    print(str(solution))\n",
        "  elif operation == \"-\":\n",
        "    solution = number1 - number2\n",
        "    print(str(solution))\n",
        "  elif operation == \"*\":\n",
        "    solution = number1 * number2\n",
        "    print(str(solution))\n",
        "  elif operation == \"/\":\n",
        "    solution = number1 / number2\n",
        "    print(str(solution))"
      ],
      "metadata": {
        "colab": {
          "base_uri": "https://localhost:8080/"
        },
        "id": "S-vl70nHkrEF",
        "outputId": "f435862c-01a9-469f-aadc-89ea4da2961b"
      },
      "execution_count": 21,
      "outputs": [
        {
          "name": "stdout",
          "output_type": "stream",
          "text": [
            "Give me a number9\n",
            "give me another number8\n",
            "What would you like me to do to these numbers? +\n",
            "17\n",
            "Give me a number9\n",
            "give me another number8\n",
            "What would you like me to do to these numbers? -\n",
            "1\n",
            "Give me a number9\n",
            "give me another number8\n",
            "What would you like me to do to these numbers? *\n",
            "72\n",
            "Give me a number9\n",
            "give me another number8\n",
            "What would you like me to do to these numbers? /\n",
            "1.125\n",
            "Give me a number9\n",
            "give me another number0\n",
            "What would you like me to do to these numbers? /\n"
          ]
        }
      ]
    },
    {
      "cell_type": "code",
      "source": [],
      "metadata": {
        "id": "3LfwAiG4k8Fo"
      },
      "execution_count": null,
      "outputs": []
    }
  ]
}