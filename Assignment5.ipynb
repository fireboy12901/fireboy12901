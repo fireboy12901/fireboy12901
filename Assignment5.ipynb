{
  "nbformat": 4,
  "nbformat_minor": 0,
  "metadata": {
    "colab": {
      "provenance": [],
      "authorship_tag": "ABX9TyO6C0TiY1BxZwcxtvaXzJNS",
      "include_colab_link": true
    },
    "kernelspec": {
      "name": "python3",
      "display_name": "Python 3"
    },
    "language_info": {
      "name": "python"
    }
  },
  "cells": [
    {
      "cell_type": "markdown",
      "metadata": {
        "id": "view-in-github",
        "colab_type": "text"
      },
      "source": [
        "<a href=\"https://colab.research.google.com/github/fireboy12901/fireboy12901/blob/main/Assignment5.ipynb\" target=\"_parent\"><img src=\"https://colab.research.google.com/assets/colab-badge.svg\" alt=\"Open In Colab\"/></a>"
      ]
    },
    {
      "cell_type": "code",
      "execution_count": null,
      "metadata": {
        "colab": {
          "base_uri": "https://localhost:8080/"
        },
        "id": "6C5RJM1HvIBL",
        "outputId": "aeca08fc-6932-47c6-e09a-a670703f684c"
      },
      "outputs": [
        {
          "output_type": "stream",
          "name": "stdout",
          "text": [
            "I love vegitarian\n",
            "I love 3 meat\n",
            "I love supreme\n",
            "I really love pizzas\n"
          ]
        }
      ],
      "source": [
        "pizzas = [\"vegitarian\", \"3 meat\", \"supreme\"] #Try it yourself 4.1\n",
        "for i in range(len(pizzas)):\n",
        "  print(\"I love \" + pizzas[i])\n",
        "print(\"I really love pizzas\")\n"
      ]
    },
    {
      "cell_type": "code",
      "source": [
        "animals = [\"dogs\", \"cats\", \"guinea\"] #Try it yourself 4.2\n",
        "for i in range(len(animals)):\n",
        "  print(\"A \" + animals[i] +\" would make a great pet\")\n",
        "print(\"Any of these animals would make great pets.\")\n"
      ],
      "metadata": {
        "colab": {
          "base_uri": "https://localhost:8080/"
        },
        "id": "-w8kLul-wh3M",
        "outputId": "1a479275-a73b-44ec-884f-0cb124c7dbd7"
      },
      "execution_count": null,
      "outputs": [
        {
          "output_type": "stream",
          "name": "stdout",
          "text": [
            "A dogs would make a great pet\n",
            "A cats would make a great pet\n",
            "A guinea would make a great pet\n",
            "Any of these animals would make great pets.\n"
          ]
        }
      ]
    },
    {
      "cell_type": "code",
      "source": [
        "for i in range(1, 21): #Try it yourself 4.3\n",
        "  print(str(i))"
      ],
      "metadata": {
        "colab": {
          "base_uri": "https://localhost:8080/"
        },
        "id": "D8m-qTmfxRpf",
        "outputId": "84f5ceb7-ec52-40c3-d7b6-9e79d5aaadbe"
      },
      "execution_count": null,
      "outputs": [
        {
          "output_type": "stream",
          "name": "stdout",
          "text": [
            "1\n",
            "2\n",
            "3\n",
            "4\n",
            "5\n",
            "6\n",
            "7\n",
            "8\n",
            "9\n",
            "10\n",
            "11\n",
            "12\n",
            "13\n",
            "14\n",
            "15\n",
            "16\n",
            "17\n",
            "18\n",
            "19\n",
            "20\n"
          ]
        }
      ]
    },
    {
      "cell_type": "code",
      "source": [
        "numbers = [] #Try it yourself 4.4 and 4.5 combined\n",
        "for i in range(1,1000000):\n",
        "  numbers.append(i)\n",
        "print(numbers)\n",
        "print(sum(numbers))"
      ],
      "metadata": {
        "colab": {
          "base_uri": "https://localhost:8080/"
        },
        "id": "pMkK56lExmLd",
        "outputId": "8c05225b-c3d9-4351-ab10-967e50870e9e"
      },
      "execution_count": null,
      "outputs": [
        {
          "output_type": "stream",
          "name": "stderr",
          "text": [
            "IOPub data rate exceeded.\n",
            "The notebook server will temporarily stop sending output\n",
            "to the client in order to avoid crashing it.\n",
            "To change this limit, set the config variable\n",
            "`--NotebookApp.iopub_data_rate_limit`.\n",
            "\n",
            "Current values:\n",
            "NotebookApp.iopub_data_rate_limit=1000000.0 (bytes/sec)\n",
            "NotebookApp.rate_limit_window=3.0 (secs)\n",
            "\n"
          ]
        }
      ]
    },
    {
      "cell_type": "code",
      "source": [
        "for i in range(1,20,2): #Try it yourself 4.6\n",
        "  print(i)"
      ],
      "metadata": {
        "colab": {
          "base_uri": "https://localhost:8080/"
        },
        "id": "8vIP3G5Zyx5I",
        "outputId": "65f55a00-5222-4678-d2e6-ef78e85aae12"
      },
      "execution_count": null,
      "outputs": [
        {
          "output_type": "stream",
          "name": "stdout",
          "text": [
            "1\n",
            "3\n",
            "5\n",
            "7\n",
            "9\n",
            "11\n",
            "13\n",
            "15\n",
            "17\n",
            "19\n"
          ]
        }
      ]
    },
    {
      "cell_type": "code",
      "source": [
        "for i in range(3,31,3): #Try it yourself 4.7\n",
        "  print(i)"
      ],
      "metadata": {
        "colab": {
          "base_uri": "https://localhost:8080/"
        },
        "id": "QkuOy-gazDn3",
        "outputId": "bf12adc0-9a69-4dee-b651-a561e707a596"
      },
      "execution_count": null,
      "outputs": [
        {
          "output_type": "stream",
          "name": "stdout",
          "text": [
            "3\n",
            "6\n",
            "9\n",
            "12\n",
            "15\n",
            "18\n",
            "21\n",
            "24\n",
            "27\n",
            "30\n"
          ]
        }
      ]
    },
    {
      "cell_type": "code",
      "source": [
        "cubes = [1,8,27,64,125,216,343,512,729,1000] #Try it yourself 4.8 and 4.9\n",
        "for i in range(10):\n",
        "  print(cubes[i])\n",
        "cubes = [value ** 3 for value in range(1,11)]\n",
        "print(cubes)"
      ],
      "metadata": {
        "colab": {
          "base_uri": "https://localhost:8080/"
        },
        "id": "9mMSlMt8zOCv",
        "outputId": "5bcd4e5f-914e-42de-fc5a-6050f16517c7"
      },
      "execution_count": null,
      "outputs": [
        {
          "output_type": "stream",
          "name": "stdout",
          "text": [
            "1\n",
            "8\n",
            "27\n",
            "64\n",
            "125\n",
            "216\n",
            "343\n",
            "512\n",
            "729\n",
            "1000\n",
            "[1, 8, 27, 64, 125, 216, 343, 512, 729, 1000]\n"
          ]
        }
      ]
    },
    {
      "cell_type": "code",
      "source": [
        "cubes = [1,8,27,64,125,216,343,512,729,1000] #Try it yourself 4.10\n",
        "print(\"The first 3 items of this list are \" + str(cubes[:3]))\n",
        "print(\"Three of the middle items are \" + str(cubes[3:6]))\n",
        "print(\"The last three items are \" + str(cubes[7:len(cubes)]))"
      ],
      "metadata": {
        "colab": {
          "base_uri": "https://localhost:8080/"
        },
        "id": "WYQuHKXJ0gA0",
        "outputId": "19120437-2781-4198-e48a-525f6955529e"
      },
      "execution_count": null,
      "outputs": [
        {
          "output_type": "stream",
          "name": "stdout",
          "text": [
            "The first 3 items of this list are [1, 8, 27]\n",
            "Three of the middle items are [64, 125, 216]\n",
            "The last three items are [512, 729, 1000]\n"
          ]
        }
      ]
    },
    {
      "cell_type": "code",
      "source": [
        "pizzas = [\"vegitarian\", \"3 meat\", \"supreme\"] #Try it yourswelf 4.11\n",
        "pizzas_friend = [\"Chicken\", \"Cheese\", \"Pepporoni\"]\n",
        "pizzas.append(\"Chicken Bacon Ranch\")\n",
        "pizzas_friend.append(\"Three Cheese\")\n",
        "print(\"My favorite pizzas are: \")\n",
        "for i in range(len(pizzas)):\n",
        "  print(pizzas[i])\n",
        "print(\"My friend's favorite pizzas are: \")\n",
        "for i in range(len(pizzas_friend)):\n",
        "  print(pizzas_friend[i])\n",
        "#I am skipping 4.14 and 4.15 because they are basically just reteaching stuff I am already doing."
      ],
      "metadata": {
        "colab": {
          "base_uri": "https://localhost:8080/"
        },
        "id": "hPmdX8CG1dLe",
        "outputId": "ab33ce49-bc8b-4820-d721-0936b17a9b02"
      },
      "execution_count": null,
      "outputs": [
        {
          "output_type": "stream",
          "name": "stdout",
          "text": [
            "My favorite pizzas are: \n",
            "vegitarian\n",
            "3 meat\n",
            "supreme\n",
            "Chicken Bacon Ranch\n",
            "My friend's favorite pizzas are: \n",
            "Chicken\n",
            "Cheese\n",
            "Pepporoni\n",
            "Three Cheese\n"
          ]
        }
      ]
    },
    {
      "cell_type": "code",
      "source": [
        "def factorial(n):\n",
        "  factors = [value for value in range(1, n)]\n",
        "  combined_product = 1\n",
        "  for i in range(len(factors)):\n",
        "    combined_product = combined_product * (factors[i]+1)\n",
        "  return combined_product\n",
        "print(factorial(5))\n",
        "print(factorial(10))\n",
        "print(factorial(20))\n",
        "print(factorial(50))"
      ],
      "metadata": {
        "colab": {
          "base_uri": "https://localhost:8080/"
        },
        "id": "1DQSOvhB6Ody",
        "outputId": "c9ae8eba-f0bc-45ae-ab5b-c826dc767758"
      },
      "execution_count": 3,
      "outputs": [
        {
          "output_type": "stream",
          "name": "stdout",
          "text": [
            "120\n",
            "3628800\n",
            "2432902008176640000\n",
            "30414093201713378043612608166064768844377641568960512000000000000\n"
          ]
        }
      ]
    },
    {
      "cell_type": "code",
      "source": [
        "from os import remove\n",
        "def special_factorial(n):\n",
        "  factors = [value for value in range(1, n)]\n",
        "  combined_product = 1\n",
        "  for i in range(len(factors)):\n",
        "    combined_product = combined_product * (factors[i] + 1)\n",
        "  if n >4 and n <13:\n",
        "    combined_product = combined_product/4\n",
        "  elif n >13 and n <22:\n",
        "    combined_product = combined_product/4\n",
        "    combined_product = combined_product/13\n",
        "  elif n >22:\n",
        "    combined_product = combined_product/4\n",
        "    combined_product = combined_product/13\n",
        "    combined_product = combined_product/22\n",
        "  return combined_product\n",
        "print(special_factorial(5))\n",
        "print(special_factorial(10))\n",
        "print(special_factorial(20))\n",
        "print(special_factorial(50))"
      ],
      "metadata": {
        "colab": {
          "base_uri": "https://localhost:8080/"
        },
        "id": "aOle2t1aqrWU",
        "outputId": "da385a89-2782-40ee-b7d4-5c86b5c390b4"
      },
      "execution_count": 15,
      "outputs": [
        {
          "output_type": "stream",
          "name": "stdout",
          "text": [
            "30.0\n",
            "907200.0\n",
            "4.678657708032e+16\n",
            "2.658574580569351e+61\n"
          ]
        }
      ]
    }
  ]
}