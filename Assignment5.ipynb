{
  "nbformat": 4,
  "nbformat_minor": 0,
  "metadata": {
    "colab": {
      "provenance": [],
      "authorship_tag": "ABX9TyPlRrbHh5VJtpK+wDqwbuAX",
      "include_colab_link": true
    },
    "kernelspec": {
      "name": "python3",
      "display_name": "Python 3"
    },
    "language_info": {
      "name": "python"
    }
  },
  "cells": [
    {
      "cell_type": "markdown",
      "metadata": {
        "id": "view-in-github",
        "colab_type": "text"
      },
      "source": [
        "<a href=\"https://colab.research.google.com/github/fireboy12901/fireboy12901/blob/main/Assignment5.ipynb\" target=\"_parent\"><img src=\"https://colab.research.google.com/assets/colab-badge.svg\" alt=\"Open In Colab\"/></a>"
      ]
    },
    {
      "cell_type": "code",
      "execution_count": 3,
      "metadata": {
        "colab": {
          "base_uri": "https://localhost:8080/"
        },
        "id": "6C5RJM1HvIBL",
        "outputId": "aeca08fc-6932-47c6-e09a-a670703f684c"
      },
      "outputs": [
        {
          "output_type": "stream",
          "name": "stdout",
          "text": [
            "I love vegitarian\n",
            "I love 3 meat\n",
            "I love supreme\n",
            "I really love pizzas\n"
          ]
        }
      ],
      "source": [
        "pizzas = [\"vegitarian\", \"3 meat\", \"supreme\"] #Try it yourself 4.1\n",
        "for i in range(len(pizzas)):\n",
        "  print(\"I love \" + pizzas[i])\n",
        "print(\"I really love pizzas\")\n"
      ]
    },
    {
      "cell_type": "code",
      "source": [
        "animals = [\"dogs\", \"cats\", \"guinea\"] #Try it yourself 4.2\n",
        "for i in range(len(animals)):\n",
        "  print(\"A \" + animals[i] +\" would make a great pet\")\n",
        "print(\"Any of these animals would make great pets.\")\n"
      ],
      "metadata": {
        "colab": {
          "base_uri": "https://localhost:8080/"
        },
        "id": "-w8kLul-wh3M",
        "outputId": "1a479275-a73b-44ec-884f-0cb124c7dbd7"
      },
      "execution_count": 4,
      "outputs": [
        {
          "output_type": "stream",
          "name": "stdout",
          "text": [
            "A dogs would make a great pet\n",
            "A cats would make a great pet\n",
            "A guinea would make a great pet\n",
            "Any of these animals would make great pets.\n"
          ]
        }
      ]
    },
    {
      "cell_type": "code",
      "source": [
        "for i in range(1, 21): #Try it yourself 4.3\n",
        "  print(str(i))"
      ],
      "metadata": {
        "colab": {
          "base_uri": "https://localhost:8080/"
        },
        "id": "D8m-qTmfxRpf",
        "outputId": "84f5ceb7-ec52-40c3-d7b6-9e79d5aaadbe"
      },
      "execution_count": 6,
      "outputs": [
        {
          "output_type": "stream",
          "name": "stdout",
          "text": [
            "1\n",
            "2\n",
            "3\n",
            "4\n",
            "5\n",
            "6\n",
            "7\n",
            "8\n",
            "9\n",
            "10\n",
            "11\n",
            "12\n",
            "13\n",
            "14\n",
            "15\n",
            "16\n",
            "17\n",
            "18\n",
            "19\n",
            "20\n"
          ]
        }
      ]
    },
    {
      "cell_type": "code",
      "source": [
        "numbers = [] #Try it yourself 4.4 and 4.5 combined\n",
        "for i in range(1,1000000):\n",
        "  numbers.append(i)\n",
        "print(numbers)\n",
        "print(sum(numbers))"
      ],
      "metadata": {
        "colab": {
          "base_uri": "https://localhost:8080/"
        },
        "id": "pMkK56lExmLd",
        "outputId": "8c05225b-c3d9-4351-ab10-967e50870e9e"
      },
      "execution_count": 9,
      "outputs": [
        {
          "output_type": "stream",
          "name": "stderr",
          "text": [
            "IOPub data rate exceeded.\n",
            "The notebook server will temporarily stop sending output\n",
            "to the client in order to avoid crashing it.\n",
            "To change this limit, set the config variable\n",
            "`--NotebookApp.iopub_data_rate_limit`.\n",
            "\n",
            "Current values:\n",
            "NotebookApp.iopub_data_rate_limit=1000000.0 (bytes/sec)\n",
            "NotebookApp.rate_limit_window=3.0 (secs)\n",
            "\n"
          ]
        }
      ]
    },
    {
      "cell_type": "code",
      "source": [
        "for i in range(1,20,2): #Try it yourself 4.6\n",
        "  print(i)"
      ],
      "metadata": {
        "colab": {
          "base_uri": "https://localhost:8080/"
        },
        "id": "8vIP3G5Zyx5I",
        "outputId": "65f55a00-5222-4678-d2e6-ef78e85aae12"
      },
      "execution_count": 10,
      "outputs": [
        {
          "output_type": "stream",
          "name": "stdout",
          "text": [
            "1\n",
            "3\n",
            "5\n",
            "7\n",
            "9\n",
            "11\n",
            "13\n",
            "15\n",
            "17\n",
            "19\n"
          ]
        }
      ]
    },
    {
      "cell_type": "code",
      "source": [
        "for i in range(3,31,3): #Try it yourself 4.7\n",
        "  print(i)"
      ],
      "metadata": {
        "colab": {
          "base_uri": "https://localhost:8080/"
        },
        "id": "QkuOy-gazDn3",
        "outputId": "bf12adc0-9a69-4dee-b651-a561e707a596"
      },
      "execution_count": 11,
      "outputs": [
        {
          "output_type": "stream",
          "name": "stdout",
          "text": [
            "3\n",
            "6\n",
            "9\n",
            "12\n",
            "15\n",
            "18\n",
            "21\n",
            "24\n",
            "27\n",
            "30\n"
          ]
        }
      ]
    },
    {
      "cell_type": "code",
      "source": [
        "cubes = [1,8,27,64,125,216,343,512,729,1000] #Try it yourself 4.8 and 4.9\n",
        "for i in range(10):\n",
        "  print(cubes[i])\n",
        "cubes = [value ** 3 for value in range(1,11)]\n",
        "print(cubes)"
      ],
      "metadata": {
        "colab": {
          "base_uri": "https://localhost:8080/"
        },
        "id": "9mMSlMt8zOCv",
        "outputId": "5bcd4e5f-914e-42de-fc5a-6050f16517c7"
      },
      "execution_count": 17,
      "outputs": [
        {
          "output_type": "stream",
          "name": "stdout",
          "text": [
            "1\n",
            "8\n",
            "27\n",
            "64\n",
            "125\n",
            "216\n",
            "343\n",
            "512\n",
            "729\n",
            "1000\n",
            "[1, 8, 27, 64, 125, 216, 343, 512, 729, 1000]\n"
          ]
        }
      ]
    },
    {
      "cell_type": "code",
      "source": [
        "cubes = [1,8,27,64,125,216,343,512,729,1000] #Try it yourself 4.10\n",
        "print(\"The first 3 items of this list are \" + str(cubes[:3]))\n",
        "print(\"Three of the middle items are \" + str(cubes[3:6]))\n",
        "print(\"The last three items are \" + str(cubes[7:len(cubes)]))"
      ],
      "metadata": {
        "colab": {
          "base_uri": "https://localhost:8080/"
        },
        "id": "WYQuHKXJ0gA0",
        "outputId": "19120437-2781-4198-e48a-525f6955529e"
      },
      "execution_count": 25,
      "outputs": [
        {
          "output_type": "stream",
          "name": "stdout",
          "text": [
            "The first 3 items of this list are [1, 8, 27]\n",
            "Three of the middle items are [64, 125, 216]\n",
            "The last three items are [512, 729, 1000]\n"
          ]
        }
      ]
    },
    {
      "cell_type": "code",
      "source": [
        "pizzas = [\"vegitarian\", \"3 meat\", \"supreme\"] #Try it yourswelf 4.11\n",
        "pizzas_friend = [\"Chicken\", \"Cheese\", \"Pepporoni\"]\n",
        "pizzas.append(\"Chicken Bacon Ranch\")\n",
        "pizzas_friend.append(\"Three Cheese\")\n",
        "print(\"My favorite pizzas are: \")\n",
        "for i in range(len(pizzas)):\n",
        "  print(pizzas[i])\n",
        "print(\"My friend's favorite pizzas are: \")\n",
        "for i in range(len(pizzas_friend)):\n",
        "  print(pizzas_friend[i])\n",
        "#I am skipping 4.14 and 4.15 because they are basically just reteaching stuff I am already doing."
      ],
      "metadata": {
        "colab": {
          "base_uri": "https://localhost:8080/"
        },
        "id": "hPmdX8CG1dLe",
        "outputId": "ab33ce49-bc8b-4820-d721-0936b17a9b02"
      },
      "execution_count": 27,
      "outputs": [
        {
          "output_type": "stream",
          "name": "stdout",
          "text": [
            "My favorite pizzas are: \n",
            "vegitarian\n",
            "3 meat\n",
            "supreme\n",
            "Chicken Bacon Ranch\n",
            "My friend's favorite pizzas are: \n",
            "Chicken\n",
            "Cheese\n",
            "Pepporoni\n",
            "Three Cheese\n"
          ]
        }
      ]
    },
    {
      "cell_type": "code",
      "source": [
        "#Try it yourself 4.12 I skipped because I was doing that stuff on accident already."
      ],
      "metadata": {
        "id": "sAM-_t3e3ear"
      },
      "execution_count": null,
      "outputs": []
    },
    {
      "cell_type": "code",
      "source": [
        "foods = (\"fries\", \"ramen Noodles\", \"pasta\", \"pizza\", \"chicken\") #Try it yourself 4.13\n",
        "for food in foods:\n",
        "  print(food)\n",
        "foods = (\"fries\", \"bacon\", \"chicken\", \"pizza\", \"broccili\")\n",
        "for food in foods:\n",
        "  print(food)"
      ],
      "metadata": {
        "colab": {
          "base_uri": "https://localhost:8080/"
        },
        "id": "IsW4oIHm3wkD",
        "outputId": "b0de22d8-cd81-418d-fafe-06c15098c955"
      },
      "execution_count": 32,
      "outputs": [
        {
          "output_type": "stream",
          "name": "stdout",
          "text": [
            "fries\n",
            "ramen Noodles\n",
            "pasta\n",
            "pizza\n",
            "chicken\n",
            "fries\n",
            "bacon\n",
            "chicken\n",
            "pizza\n",
            "broccili\n"
          ]
        }
      ]
    },
    {
      "cell_type": "code",
      "source": [],
      "metadata": {
        "id": "LjrbAK4z4AFY"
      },
      "execution_count": 31,
      "outputs": []
    }
  ]
}