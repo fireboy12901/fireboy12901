{
  "nbformat": 4,
  "nbformat_minor": 0,
  "metadata": {
    "colab": {
      "provenance": [],
      "authorship_tag": "ABX9TyP8NPIs4EKjGd6sebFPODUr",
      "include_colab_link": true
    },
    "kernelspec": {
      "name": "python3",
      "display_name": "Python 3"
    },
    "language_info": {
      "name": "python"
    }
  },
  "cells": [
    {
      "cell_type": "markdown",
      "metadata": {
        "id": "view-in-github",
        "colab_type": "text"
      },
      "source": [
        "<a href=\"https://colab.research.google.com/github/fireboy12901/fireboy12901/blob/main/Assignment3.ipynb\" target=\"_parent\"><img src=\"https://colab.research.google.com/assets/colab-badge.svg\" alt=\"Open In Colab\"/></a>"
      ]
    },
    {
      "cell_type": "code",
      "execution_count": 2,
      "metadata": {
        "colab": {
          "base_uri": "https://localhost:8080/"
        },
        "id": "T8Gvb7LVvmgI",
        "outputId": "e0166489-102b-4181-cdd8-b1a37f883cfc"
      },
      "outputs": [
        {
          "output_type": "stream",
          "name": "stdout",
          "text": [
            "Hello Python World\n"
          ]
        }
      ],
      "source": [
        "message = \"Hello Python World\" #Try it Yourself 2.1\n",
        "print(message)"
      ]
    },
    {
      "cell_type": "code",
      "source": [
        "message = \"Hello Python Crash World\" #Try it Yourself 2.2\n",
        "print(message)"
      ],
      "metadata": {
        "id": "b4Xp3ap-wNdo"
      },
      "execution_count": 2,
      "outputs": []
    },
    {
      "cell_type": "code",
      "source": [
        "name = input(\"What is your name? \") #Try it Yourself 2.3\n",
        "print(\"Hello \" + name + \" would you like to play a game?\")"
      ],
      "metadata": {
        "colab": {
          "base_uri": "https://localhost:8080/"
        },
        "id": "NveBt90iwmwo",
        "outputId": "43ea888f-fc90-49c0-86c6-027d55fefc0c"
      },
      "execution_count": 3,
      "outputs": [
        {
          "output_type": "stream",
          "name": "stdout",
          "text": [
            "What is your name? Joshua\n",
            "Hello Joshua would you like to play a game?\n"
          ]
        }
      ]
    },
    {
      "cell_type": "code",
      "source": [
        "name = input(\"What is your name? \") #Try it Yourself 2.4\n",
        "print(name.upper())\n",
        "print(name.lower())\n",
        "print(name.title())"
      ],
      "metadata": {
        "colab": {
          "base_uri": "https://localhost:8080/"
        },
        "id": "l0BzXD_zxOhh",
        "outputId": "f400cc65-5cf3-463d-8100-6d458fc720d1"
      },
      "execution_count": 5,
      "outputs": [
        {
          "output_type": "stream",
          "name": "stdout",
          "text": [
            "What is your name? Joshua\n",
            "JOSHUA\n",
            "joshua\n",
            "Joshua\n"
          ]
        }
      ]
    },
    {
      "cell_type": "code",
      "source": [
        "print('Albert Einstien once said, \"There are two ways to live your life. One is as if nothing is a miracle. the other is as if everthing is a miracle.\"') #Try it Yourself 2.5"
      ],
      "metadata": {
        "colab": {
          "base_uri": "https://localhost:8080/"
        },
        "id": "QsJm7giTx81Z",
        "outputId": "447983ea-364a-47f0-d91d-62bd916a51cb"
      },
      "execution_count": 6,
      "outputs": [
        {
          "output_type": "stream",
          "name": "stdout",
          "text": [
            "Albert Einstien once said, \"There are two ways to live your life. One is as if nothing is a miracle. the other is as if everthing is a miracle.\"\n"
          ]
        }
      ]
    },
    {
      "cell_type": "code",
      "source": [
        "famous_person = \"Albert Einstein\" #Try it Yourself 2.5\n",
        "message = famous_person + ' once said, \"There are two ways to live your life. One is as if nothing is a miracle. the other is as if everthing is a miracle.\"'\n",
        "print(message)"
      ],
      "metadata": {
        "colab": {
          "base_uri": "https://localhost:8080/"
        },
        "id": "vk-T3t_N0tho",
        "outputId": "7d41de8a-3f0f-4f4c-8ddd-548be8ee7810"
      },
      "execution_count": 8,
      "outputs": [
        {
          "output_type": "stream",
          "name": "stdout",
          "text": [
            "Albert Einstein once said, \"There are two ways to live your life. One is as if nothing is a miracle. the other is as if everthing is a miracle.\"\n"
          ]
        }
      ]
    },
    {
      "cell_type": "code",
      "source": [
        "name = '\\t Joshua \\n Sharp        '#Try it Yourself 2.6\n",
        "print(name)\n",
        "print(name.lstrip())\n",
        "print(name.rstrip())\n",
        "print(name.strip())"
      ],
      "metadata": {
        "colab": {
          "base_uri": "https://localhost:8080/"
        },
        "id": "ERkoscDn2Sl1",
        "outputId": "9cdf2104-5783-4bff-ca99-7761549befea"
      },
      "execution_count": 13,
      "outputs": [
        {
          "output_type": "stream",
          "name": "stdout",
          "text": [
            "\t Joshua \n",
            " Sharp        \n",
            "Joshua \n",
            " Sharp        \n",
            "\t Joshua \n",
            " Sharp\n",
            "Joshua \n",
            " Sharp\n"
          ]
        }
      ]
    },
    {
      "cell_type": "code",
      "source": [
        "filename = \"python_notes.txt\" #Try it yourself 2.8\n",
        "print(filename.removesuffix(\".txt\"))"
      ],
      "metadata": {
        "colab": {
          "base_uri": "https://localhost:8080/"
        },
        "id": "vurgscPr3oel",
        "outputId": "8aecf839-48ce-43a5-be30-42964978ba1b"
      },
      "execution_count": 15,
      "outputs": [
        {
          "output_type": "stream",
          "name": "stdout",
          "text": [
            "python_notes\n"
          ]
        }
      ]
    },
    {
      "cell_type": "code",
      "source": [
        "print(10-2) #Try it yourself 2.9\n",
        "print(5+3)\n",
        "print(4*2)\n",
        "print(16/2)"
      ],
      "metadata": {
        "colab": {
          "base_uri": "https://localhost:8080/"
        },
        "id": "oxX-Uiva4bbj",
        "outputId": "1a36b05d-a57a-4914-9d12-652017108dab"
      },
      "execution_count": 16,
      "outputs": [
        {
          "output_type": "stream",
          "name": "stdout",
          "text": [
            "8\n",
            "8\n",
            "8\n",
            "8.0\n"
          ]
        }
      ]
    },
    {
      "cell_type": "code",
      "source": [
        "favorite_number = 18 #Try it yourself 2.10\n",
        "print(\"My favorite number is \" + str(favorite_number) + \".\")"
      ],
      "metadata": {
        "colab": {
          "base_uri": "https://localhost:8080/"
        },
        "id": "6lFHfooY43ri",
        "outputId": "0e4a2437-b5d8-41e7-bdc3-ea468d3d0a5d"
      },
      "execution_count": 17,
      "outputs": [
        {
          "output_type": "stream",
          "name": "stdout",
          "text": [
            "My favorite number is 18.\n"
          ]
        }
      ]
    },
    {
      "cell_type": "code",
      "source": [
        "import this"
      ],
      "metadata": {
        "colab": {
          "base_uri": "https://localhost:8080/"
        },
        "id": "KBtlPeIm5GcG",
        "outputId": "623d4446-1a29-4895-fa0a-b6acb14baec4"
      },
      "execution_count": 18,
      "outputs": [
        {
          "output_type": "stream",
          "name": "stdout",
          "text": [
            "The Zen of Python, by Tim Peters\n",
            "\n",
            "Beautiful is better than ugly.\n",
            "Explicit is better than implicit.\n",
            "Simple is better than complex.\n",
            "Complex is better than complicated.\n",
            "Flat is better than nested.\n",
            "Sparse is better than dense.\n",
            "Readability counts.\n",
            "Special cases aren't special enough to break the rules.\n",
            "Although practicality beats purity.\n",
            "Errors should never pass silently.\n",
            "Unless explicitly silenced.\n",
            "In the face of ambiguity, refuse the temptation to guess.\n",
            "There should be one-- and preferably only one --obvious way to do it.\n",
            "Although that way may not be obvious at first unless you're Dutch.\n",
            "Now is better than never.\n",
            "Although never is often better than *right* now.\n",
            "If the implementation is hard to explain, it's a bad idea.\n",
            "If the implementation is easy to explain, it may be a good idea.\n",
            "Namespaces are one honking great idea -- let's do more of those!\n"
          ]
        }
      ]
    }
  ]
}