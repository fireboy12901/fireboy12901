{
  "nbformat": 4,
  "nbformat_minor": 0,
  "metadata": {
    "colab": {
      "provenance": [],
      "authorship_tag": "ABX9TyPBt0GDQLPeUCokNUh8UFD0",
      "include_colab_link": true
    },
    "kernelspec": {
      "name": "python3",
      "display_name": "Python 3"
    },
    "language_info": {
      "name": "python"
    }
  },
  "cells": [
    {
      "cell_type": "markdown",
      "metadata": {
        "id": "view-in-github",
        "colab_type": "text"
      },
      "source": [
        "<a href=\"https://colab.research.google.com/github/fireboy12901/fireboy12901/blob/main/assignemnt4.ipynb\" target=\"_parent\"><img src=\"https://colab.research.google.com/assets/colab-badge.svg\" alt=\"Open In Colab\"/></a>"
      ]
    },
    {
      "cell_type": "code",
      "execution_count": 2,
      "metadata": {
        "colab": {
          "base_uri": "https://localhost:8080/"
        },
        "id": "zgJrk26Y6jWK",
        "outputId": "4dd4bff4-1e3e-4773-9200-64a3fd759c8d"
      },
      "outputs": [
        {
          "output_type": "stream",
          "name": "stdout",
          "text": [
            "Tyler\n",
            "Sydny\n",
            "Isabella\n",
            "Jake\n"
          ]
        }
      ],
      "source": [
        "names = [\"Tyler\", \"Sydny\", \"Isabella\", \"Jake\"] #Try it yourself 3.1\n",
        "print(names[0])\n",
        "print(names[1])\n",
        "print(names[2])\n",
        "print(names[3])"
      ]
    },
    {
      "cell_type": "code",
      "source": [
        "names = [\"Tyler\", \"Sydny\", \"Isabella\", \"Jake\"] #Try it yourself 3.2\n",
        "print(\"Hello \" + names[0])\n",
        "print(\"Hello \" + names[1])\n",
        "print(\"Hello \" + names[2])\n",
        "print(\"Hello \" + names[3])"
      ],
      "metadata": {
        "colab": {
          "base_uri": "https://localhost:8080/"
        },
        "id": "cJVAqzF57jmO",
        "outputId": "d2dcd24f-804f-49c5-c67a-337d8ebe03f8"
      },
      "execution_count": 3,
      "outputs": [
        {
          "output_type": "stream",
          "name": "stdout",
          "text": [
            "Hello Tyler\n",
            "Hello Sydny\n",
            "Hello Isabella\n",
            "Hello Jake\n"
          ]
        }
      ]
    },
    {
      "cell_type": "code",
      "source": [
        "transportation_mode = [\"Ford Truck\", \"Audi Car\", \"Trek Motorcycle\"] #Try it yourself 3.3\n",
        "print(\"I would like to own a \" + transportation_mode[0] + \".\")\n",
        "print(\"I would like to own a \" + transportation_mode[1] + \".\")\n",
        "print(\"I would like to own a \" + transportation_mode[2] + \".\")"
      ],
      "metadata": {
        "colab": {
          "base_uri": "https://localhost:8080/"
        },
        "id": "ijbVZNMY8FIn",
        "outputId": "249727b1-784f-4c2d-e044-8c6720548275"
      },
      "execution_count": 4,
      "outputs": [
        {
          "output_type": "stream",
          "name": "stdout",
          "text": [
            "I would like to own a Ford Truck.\n",
            "I would like to own a Audi Car.\n",
            "I would like to own a Trek Motorcycle.\n"
          ]
        }
      ]
    },
    {
      "cell_type": "code",
      "source": [
        "guests = [\"Tyler Baker\", \"Sydney Barnett\", \"Isabella Miller\"] #Try it yourself 3.4\n",
        "print(\"Hello \" + guests[0] + \", I am inviting you to dinner with me and a few of our friends\")\n",
        "print(\"Hello \" + guests[1] + \", I am inviting you to dinner with me and a few of our friends\")\n",
        "print(\"Hello \" + guests[2] + \", I am inviting you to dinner with me and a few of our friends\")"
      ],
      "metadata": {
        "colab": {
          "base_uri": "https://localhost:8080/"
        },
        "id": "kOuW0dQj8s_c",
        "outputId": "5a8033af-760e-4973-a161-f4ffa3619546"
      },
      "execution_count": 5,
      "outputs": [
        {
          "output_type": "stream",
          "name": "stdout",
          "text": [
            "Hello Tyler Baker, I am inviting you to dinner with me and a few of our friends\n",
            "Hello Sydney Barnett, I am inviting you to dinner with me and a few of our friends\n",
            "Hello Isabella Miller, I am inviting you to dinner with me and a few of our friends\n"
          ]
        }
      ]
    },
    {
      "cell_type": "code",
      "source": [
        "guests = [\"Tyler Baker\", \"Sydney Barnett\", \"Isabella Miller\"] #Try it yourself 3.5\n",
        "print(\"Sadly, \" + guests[0] + \" can not make it to the dinner\")\n",
        "guests.remove(\"Tyler Baker\")\n",
        "guests.append(\"Samuel LaBombard\")\n",
        "print(\"Hello \" + guests[0] + \", I am inviting you to dinner with me and a few of our friends\")\n",
        "print(\"Hello \" + guests[1] + \", I am inviting you to dinner with me and a few of our friends\")\n",
        "print(\"Hello \" + guests[2] + \", I am inviting you to dinner with me and a few of our friends\")"
      ],
      "metadata": {
        "colab": {
          "base_uri": "https://localhost:8080/"
        },
        "id": "cCXppUMO9f0z",
        "outputId": "d229832e-d17f-41e8-b06c-b4c1a414d7f4"
      },
      "execution_count": 11,
      "outputs": [
        {
          "output_type": "stream",
          "name": "stdout",
          "text": [
            "Sadly, Tyler Baker can not make it to the dinner\n",
            "Hello Sydney Barnett, I am inviting you to dinner with me and a few of our friends\n",
            "Hello Isabella Miller, I am inviting you to dinner with me and a few of our friends\n",
            "Hello Samuel LaBombard, I am inviting you to dinner with me and a few of our friends\n"
          ]
        }
      ]
    },
    {
      "cell_type": "code",
      "source": [
        "guests = ['Sydney Barnett', 'Isabella Miller', 'Samuel LaBombard'] #Try it yourself 3.6\n",
        "print(\"Good news, I found a bigger table\")\n",
        "guests.insert(1, \"Jace Lacey\")\n",
        "guests.insert(3, \"Jake Calkins\")\n",
        "guests.append(\"Gregory Olbert\")\n",
        "print(\"Hello \" + guests[0] + \", I am inviting you to dinner with me and a few of our friends\")\n",
        "print(\"Hello \" + guests[1] + \", I am inviting you to dinner with me and a few of our friends\")\n",
        "print(\"Hello \" + guests[2] + \", I am inviting you to dinner with me and a few of our friends\")\n",
        "print(\"Hello \" + guests[3] + \", I am inviting you to dinner with me and a few of our friends\")\n",
        "print(\"Hello \" + guests[4] + \", I am inviting you to dinner with me and a few of our friends\")\n",
        "print(\"Hello \" + guests[5] + \", I am inviting you to dinner with me and a few of our friends\")"
      ],
      "metadata": {
        "colab": {
          "base_uri": "https://localhost:8080/"
        },
        "id": "o5iKf1hv-ek4",
        "outputId": "ff9d2fd1-6d23-4c32-f200-727c7157bf5b"
      },
      "execution_count": 10,
      "outputs": [
        {
          "output_type": "stream",
          "name": "stdout",
          "text": [
            "Good news, I found a bigger table\n",
            "Hello Sydney Barnett, I am inviting you to dinner with me and a few of our friends\n",
            "Hello Jace Lacey, I am inviting you to dinner with me and a few of our friends\n",
            "Hello Isabella Miller, I am inviting you to dinner with me and a few of our friends\n",
            "Hello Jake Calkins, I am inviting you to dinner with me and a few of our friends\n",
            "Hello Samuel LaBombard, I am inviting you to dinner with me and a few of our friends\n",
            "Hello Gregory Olbert, I am inviting you to dinner with me and a few of our friends\n"
          ]
        }
      ]
    },
    {
      "cell_type": "code",
      "source": [
        "from ast import Delete\n",
        "guests = ['Sydney Barnett', 'Jace Lacey', 'Isabella Miller', 'Jake Calkins', 'Samuel LaBombard', 'Gregory Olbert'] #Try it yourself 3.7\n",
        "print(\"Sadly the table will not make it in time. I can only invite 2 of you now.\")\n",
        "removed_guests = guests.pop()\n",
        "print(\"Sorry \" + removed_guests + \" you can't come anymore\")\n",
        "removed_guests = guests.pop()\n",
        "print(\"Sorry \" + removed_guests + \" you can't come anymore\")\n",
        "removed_guests = guests.pop()\n",
        "print(\"Sorry \" + removed_guests + \" you can't come anymore\")\n",
        "removed_guests = guests.pop()\n",
        "print(\"Sorry \" + removed_guests + \" you can't come anymore\")\n",
        "print(guests[0] + \" you are still invited\")\n",
        "print(guests[1] + \" you are still invited\")\n",
        "del(guests[0])\n",
        "del(guests[0])\n",
        "print(guests)"
      ],
      "metadata": {
        "colab": {
          "base_uri": "https://localhost:8080/"
        },
        "id": "H12qtYYa_ulj",
        "outputId": "a982592f-f4ff-498e-e25e-baeccad65bda"
      },
      "execution_count": 14,
      "outputs": [
        {
          "output_type": "stream",
          "name": "stdout",
          "text": [
            "Sadly the table will not make it in time. I can only invite 2 of you now.\n",
            "Sorry Gregory Olbert you can't come anymore\n",
            "Sorry Samuel LaBombard you can't come anymore\n",
            "Sorry Jake Calkins you can't come anymore\n",
            "Sorry Isabella Miller you can't come anymore\n",
            "Sydney Barnett you are still invited\n",
            "Jace Lacey you are still invited\n",
            "[]\n"
          ]
        }
      ]
    },
    {
      "cell_type": "code",
      "source": [
        "places_to_see = [\"Paris\", \"Egypt\", \"England\", \"Greece\", \"Rome\"] #Try it yourself 3.8\n",
        "print(places_to_see)\n",
        "print(sorted(places_to_see))\n",
        "print(places_to_see)\n",
        "places_to_see.reverse()\n",
        "print(places_to_see)\n",
        "places_to_see.reverse()\n",
        "print(places_to_see)\n",
        "places_to_see.sort()\n",
        "print(places_to_see)\n",
        "places_to_see.reverse()\n",
        "print(places_to_see)"
      ],
      "metadata": {
        "colab": {
          "base_uri": "https://localhost:8080/"
        },
        "id": "no8pY2zMDyzT",
        "outputId": "ee81c980-10e0-41f5-dd87-0095932380d3"
      },
      "execution_count": 22,
      "outputs": [
        {
          "output_type": "stream",
          "name": "stdout",
          "text": [
            "['Paris', 'Egypt', 'England', 'Greece', 'Rome']\n",
            "['Egypt', 'England', 'Greece', 'Paris', 'Rome']\n",
            "['Paris', 'Egypt', 'England', 'Greece', 'Rome']\n",
            "['Rome', 'Greece', 'England', 'Egypt', 'Paris']\n",
            "['Paris', 'Egypt', 'England', 'Greece', 'Rome']\n",
            "['Egypt', 'England', 'Greece', 'Paris', 'Rome']\n",
            "['Rome', 'Paris', 'Greece', 'England', 'Egypt']\n"
          ]
        }
      ]
    },
    {
      "cell_type": "code",
      "source": [
        "guests = ['Sydney Barnett', 'Jace Lacey', 'Isabella Miller', 'Jake Calkins', 'Samuel LaBombard', 'Gregory Olbert'] #Try it yourself 3.9\n",
        "print(\"I am inviting \" + str(len(guests)) + \" people to dinner\" )"
      ],
      "metadata": {
        "colab": {
          "base_uri": "https://localhost:8080/"
        },
        "id": "r9NlHxfUGqhl",
        "outputId": "b65df8a8-982d-4383-af5a-d5d8bd8a1a44"
      },
      "execution_count": 24,
      "outputs": [
        {
          "output_type": "stream",
          "name": "stdout",
          "text": [
            "I am inviting 6 people to dinner\n"
          ]
        }
      ]
    },
    {
      "cell_type": "code",
      "source": [
        "mountains = [\"Andes\", \"Himalayas\", \"Atlas\", \"Dolomites\", \"Rocky Mountains\", \"Sierra Nevada\", \"Southern Alps\", \"Western Alps\"] #Try It yourself 3.10\n",
        "print(mountains)\n",
        "mountains.reverse()\n",
        "print(mountains)\n",
        "mountains.sort()\n",
        "print(mountains)\n",
        "mountains.append(\"blah\")\n",
        "print(mountains)\n",
        "mountains.pop()\n",
        "print(mountains)\n",
        "mountains.remove(\"Andes\")\n",
        "print(mountains)\n",
        "del mountains[0]\n",
        "print(mountains)"
      ],
      "metadata": {
        "colab": {
          "base_uri": "https://localhost:8080/"
        },
        "id": "KhMFo0hLHMLd",
        "outputId": "b9d1cd99-8c54-439a-e216-f0e325307009"
      },
      "execution_count": 30,
      "outputs": [
        {
          "output_type": "stream",
          "name": "stdout",
          "text": [
            "['Andes', 'Himalayas', 'Atlas', 'Dolomites', 'Rocky Mountains', 'Sierra Nevada', 'Southern Alps', 'Western Alps']\n",
            "['Western Alps', 'Southern Alps', 'Sierra Nevada', 'Rocky Mountains', 'Dolomites', 'Atlas', 'Himalayas', 'Andes']\n",
            "['Andes', 'Atlas', 'Dolomites', 'Himalayas', 'Rocky Mountains', 'Sierra Nevada', 'Southern Alps', 'Western Alps']\n",
            "['Andes', 'Atlas', 'Dolomites', 'Himalayas', 'Rocky Mountains', 'Sierra Nevada', 'Southern Alps', 'Western Alps', 'blah']\n",
            "['Andes', 'Atlas', 'Dolomites', 'Himalayas', 'Rocky Mountains', 'Sierra Nevada', 'Southern Alps', 'Western Alps']\n",
            "['Atlas', 'Dolomites', 'Himalayas', 'Rocky Mountains', 'Sierra Nevada', 'Southern Alps', 'Western Alps']\n",
            "['Dolomites', 'Himalayas', 'Rocky Mountains', 'Sierra Nevada', 'Southern Alps', 'Western Alps']\n"
          ]
        }
      ]
    },
    {
      "cell_type": "code",
      "source": [
        "numbers = []\n",
        "cubes = []\n",
        "for i in range(26):\n",
        "  if((i + 60) %7 ==0):\n",
        "    numbers.append(i + 60)\n",
        "for i in range(len(numbers)):\n",
        "  cubes.append(numbers[i] **3)\n",
        "for i in range(len(numbers)):\n",
        "  print(\"The cube of \" + str(numbers[i]) + \" is \" + str(cubes[i]) + \".\")"
      ],
      "metadata": {
        "colab": {
          "base_uri": "https://localhost:8080/"
        },
        "id": "3uKhljw3Jq0F",
        "outputId": "9b6835b1-efc9-40e5-bae3-c8afb288282f"
      },
      "execution_count": 40,
      "outputs": [
        {
          "output_type": "stream",
          "name": "stdout",
          "text": [
            "The cube of 63 is 250047.\n",
            "The cube of 70 is 343000.\n",
            "The cube of 77 is 456533.\n",
            "The cube of 84 is 592704.\n"
          ]
        }
      ]
    },
    {
      "cell_type": "code",
      "source": [
        "numbers = [40, 50, 120, -8, 6]\n",
        "for i in range(len(numbers)):\n",
        "  print(round(7.4 * numbers[i] + 5.1, 4))"
      ],
      "metadata": {
        "colab": {
          "base_uri": "https://localhost:8080/"
        },
        "id": "EVuY3YTuMt8H",
        "outputId": "4a4ba484-4537-48fb-fc81-81a2af15acb7"
      },
      "execution_count": 43,
      "outputs": [
        {
          "output_type": "stream",
          "name": "stdout",
          "text": [
            "301.1\n",
            "375.1\n",
            "893.1\n",
            "-54.1\n",
            "49.5\n"
          ]
        }
      ]
    }
  ]
}